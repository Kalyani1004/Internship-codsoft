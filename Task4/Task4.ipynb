{
 "cells": [
  {
   "cell_type": "code",
   "execution_count": null,
   "id": "5b24bab3",
   "metadata": {},
   "outputs": [],
   "source": [
    "import tkinter as tk\n",
    "import random\n",
    "\n",
    "def determine_winner(user_choice, computer_choice):\n",
    "    if user_choice == computer_choice:\n",
    "        return \"It's a tie!\"\n",
    "    elif (user_choice == \"rock\" and computer_choice == \"scissors\") or \\\n",
    "         (user_choice == \"scissors\" and computer_choice == \"paper\") or \\\n",
    "         (user_choice == \"paper\" and computer_choice == \"rock\"):\n",
    "        return \"You win!\"\n",
    "    else:\n",
    "        return \"Computer wins!\"\n",
    "\n",
    "\n",
    "def user_choice_selection(choice):\n",
    "    computer_choice = random.choice(choices)\n",
    "    result = determine_winner(choice, computer_choice)\n",
    "    result_label.config(text=f\"Your choice: {choice}\\nComputer's choice: {computer_choice}\\nResult: {result}\", fg=\"#ffffff\")\n",
    "\n",
    "\n",
    "root = tk.Tk()\n",
    "root.title(\"Rock-Paper-Scissors Game\")\n",
    "root.configure(bg=\"#2c3e50\")\n",
    "\n",
    "\n",
    "choices = [\"rock\", \"paper\", \"scissors\"]\n",
    "\n",
    "\n",
    "instruction_label = tk.Label(root, text=\"Choose rock, paper, or scissors:\", bg=\"#2c3e50\", fg=\"#ffffff\", font=(\"Arial\", 14))\n",
    "instruction_label.pack(pady=10)\n",
    "\n",
    "button_bg_color = \"#3498db\"\n",
    "button_fg_color = \"#ffffff\"\n",
    "\n",
    "rock_button = tk.Button(root, text=\"Rock\", width=10, bg=button_bg_color, fg=button_fg_color, font=(\"Arial\", 12), command=lambda: user_choice_selection(\"rock\"))\n",
    "rock_button.pack(pady=5)\n",
    "\n",
    "paper_button = tk.Button(root, text=\"Paper\", width=10, bg=button_bg_color, fg=button_fg_color, font=(\"Arial\", 12), command=lambda: user_choice_selection(\"paper\"))\n",
    "paper_button.pack(pady=5)\n",
    "\n",
    "scissors_button = tk.Button(root, text=\"Scissors\", width=10, bg=button_bg_color, fg=button_fg_color, font=(\"Arial\", 12), command=lambda: user_choice_selection(\"scissors\"))\n",
    "scissors_button.pack(pady=5)\n",
    "\n",
    "result_label = tk.Label(root, text=\"\", pady=10, bg=\"#2c3e50\", fg=\"#ffffff\", font=(\"Arial\", 14))\n",
    "result_label.pack()\n",
    "\n",
    "\n",
    "root.mainloop()\n"
   ]
  },
  {
   "cell_type": "code",
   "execution_count": null,
   "id": "4aa1f628",
   "metadata": {},
   "outputs": [],
   "source": []
  },
  {
   "cell_type": "code",
   "execution_count": null,
   "id": "5f18203f",
   "metadata": {},
   "outputs": [],
   "source": []
  }
 ],
 "metadata": {
  "kernelspec": {
   "display_name": "Python 3 (ipykernel)",
   "language": "python",
   "name": "python3"
  },
  "language_info": {
   "codemirror_mode": {
    "name": "ipython",
    "version": 3
   },
   "file_extension": ".py",
   "mimetype": "text/x-python",
   "name": "python",
   "nbconvert_exporter": "python",
   "pygments_lexer": "ipython3",
   "version": "3.11.5"
  }
 },
 "nbformat": 4,
 "nbformat_minor": 5
}
