{
 "cells": [
  {
   "cell_type": "code",
   "execution_count": 4,
   "id": "45d0a28b",
   "metadata": {},
   "outputs": [],
   "source": [
    "import tkinter as tk\n",
    "import random\n",
    "import string\n",
    "\n",
    "def generate_password():\n",
    "    length = int(length_entry.get())\n",
    "    \n",
    "   \n",
    "    characters = string.ascii_letters + string.digits + string.punctuation\n",
    "    \n",
    "\n",
    "    password = ''.join(random.choices(characters, k=length))\n",
    "    \n",
    "\n",
    "    password_label.config(text=\"Generated Password: \" + password)\n",
    "\n",
    "\n",
    "root = tk.Tk()\n",
    "root.title(\"Password Generator\")\n",
    "root.configure(bg=\"#f0f0f0\")\n",
    "\n",
    "\n",
    "label_bg_color = \"#f0f0f0\"\n",
    "label_fg_color = \"#333333\"\n",
    "button_bg_color = \"#4CAF50\"\n",
    "button_fg_color = \"#ffffff\"\n",
    "\n",
    "\n",
    "length_label = tk.Label(root, text=\"Password Length:\", bg=label_bg_color, fg=label_fg_color)\n",
    "length_label.grid(row=0, column=0, padx=10, pady=5)\n",
    "\n",
    "length_entry = tk.Entry(root)\n",
    "length_entry.grid(row=0, column=1, padx=10, pady=5)\n",
    "\n",
    "generate_button = tk.Button(root, text=\"Generate Password\", command=generate_password, bg=button_bg_color, fg=button_fg_color)\n",
    "generate_button.grid(row=1, column=0, columnspan=2, padx=10, pady=5)\n",
    "\n",
    "password_label = tk.Label(root, text=\"\", bg=label_bg_color, fg=label_fg_color)\n",
    "password_label.grid(row=2, column=0, columnspan=2, padx=10, pady=5)\n",
    "\n",
    "\n",
    "root.mainloop()\n"
   ]
  },
  {
   "cell_type": "code",
   "execution_count": null,
   "id": "95808785",
   "metadata": {},
   "outputs": [],
   "source": []
  },
  {
   "cell_type": "code",
   "execution_count": null,
   "id": "5e675d91",
   "metadata": {},
   "outputs": [],
   "source": []
  }
 ],
 "metadata": {
  "kernelspec": {
   "display_name": "Python 3 (ipykernel)",
   "language": "python",
   "name": "python3"
  },
  "language_info": {
   "codemirror_mode": {
    "name": "ipython",
    "version": 3
   },
   "file_extension": ".py",
   "mimetype": "text/x-python",
   "name": "python",
   "nbconvert_exporter": "python",
   "pygments_lexer": "ipython3",
   "version": "3.11.5"
  }
 },
 "nbformat": 4,
 "nbformat_minor": 5
}
