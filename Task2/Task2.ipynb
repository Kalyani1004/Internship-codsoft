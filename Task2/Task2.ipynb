{
 "cells": [
  {
   "cell_type": "code",
   "execution_count": 6,
   "id": "ab739fc8",
   "metadata": {},
   "outputs": [],
   "source": [
    "import tkinter as tk\n",
    "\n",
    "def evaluate_expression():\n",
    "    try:\n",
    "        result = eval(entry.get())\n",
    "        entry.delete(0, tk.END)\n",
    "        entry.insert(tk.END, str(result))\n",
    "    except Exception as e:\n",
    "        entry.delete(0, tk.END)\n",
    "        entry.insert(tk.END, \"Error\")\n",
    "\n",
    "def add_to_display(char):\n",
    "    entry.insert(tk.END, char)\n",
    "\n",
    "def clear_display():\n",
    "    entry.delete(0, tk.END)\n",
    "\n",
    "root = tk.Tk()\n",
    "root.title(\"Calculator\")\n",
    "root.configure(background=\"#f0f0f0\")\n",
    "\n",
    "entry = tk.Entry(root, width=20, font=(\"Arial\", 14), bg=\"#ffffff\", fg=\"#000000\")\n",
    "entry.grid(row=0, column=0, columnspan=4, padx=10, pady=10)\n",
    "\n",
    "buttons = [\n",
    "    ('7', 1, 0), ('8', 1, 1), ('9', 1, 2), ('/', 1, 3),\n",
    "    ('4', 2, 0), ('5', 2, 1), ('6', 2, 2), ('*', 2, 3),\n",
    "    ('1', 3, 0), ('2', 3, 1), ('3', 3, 2), ('-', 3, 3),\n",
    "    ('0', 4, 0), ('.', 4, 1), ('=', 4, 2), ('+', 4, 3)\n",
    "]\n",
    "\n",
    "for (text, row, column) in buttons:\n",
    "    button = tk.Button(root, text=text, width=5, height=2, bg=\"#4CAF50\", fg=\"#ffffff\",\n",
    "                       command=lambda t=text: add_to_display(t))\n",
    "    button.grid(row=row, column=column, padx=5, pady=5)\n",
    "\n",
    "clear_button = tk.Button(root, text='C', width=5, height=2, bg=\"#f44336\", fg=\"#ffffff\", command=clear_display)\n",
    "clear_button.grid(row=5, column=0, columnspan=2, padx=5, pady=5)\n",
    "\n",
    "equals_button = tk.Button(root, text='=', width=5, height=2, bg=\"#2196F3\", fg=\"#ffffff\", command=evaluate_expression)\n",
    "equals_button.grid(row=5, column=2, columnspan=2, padx=5, pady=5)\n",
    "\n",
    "root.mainloop()\n"
   ]
  },
  {
   "cell_type": "code",
   "execution_count": null,
   "id": "99402cf0",
   "metadata": {},
   "outputs": [],
   "source": []
  }
 ],
 "metadata": {
  "kernelspec": {
   "display_name": "Python 3 (ipykernel)",
   "language": "python",
   "name": "python3"
  },
  "language_info": {
   "codemirror_mode": {
    "name": "ipython",
    "version": 3
   },
   "file_extension": ".py",
   "mimetype": "text/x-python",
   "name": "python",
   "nbconvert_exporter": "python",
   "pygments_lexer": "ipython3",
   "version": "3.11.5"
  }
 },
 "nbformat": 4,
 "nbformat_minor": 5
}
